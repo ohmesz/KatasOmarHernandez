{
 "cells": [
  {
   "cell_type": "markdown",
   "metadata": {},
   "source": [
    "# Kata del modulo 3\n"
   ]
  },
  {
   "cell_type": "markdown",
   "metadata": {},
   "source": [
    "Ejercicio - Escribir declaraciones if, else, y elif\n"
   ]
  },
  {
   "cell_type": "code",
   "execution_count": null,
   "metadata": {},
   "outputs": [],
   "source": [
    "# Añadir el código necesario para crear una variable que guarde la velocidad del asteroide.\n",
    "# Escribe una expresión de prueba para calcular si necesita una advertencia.\n",
    "# Agregue las instrucciones que se ejecutarán si la expresión de prueba es true o false.\n",
    "\n",
    "#asteroid_speed = input(\"Asteroide speed in km\")\n",
    "asteroid_speed = 49\n",
    "message = \"\"\n",
    "\n",
    "if int(asteroid_speed) > 25:\n",
    "    message = \"WARNING!! Asteroid is approaching to earth too fast\"\n",
    "else:\n",
    "    message = \"all good\"\n",
    "print(message)"
   ]
  },
  {
   "cell_type": "code",
   "execution_count": null,
   "metadata": {},
   "outputs": [],
   "source": [
    "# Si un asteroide entra en la atmósfera de la Tierra a una velocidad mayor o igual a 20 km/s, a veces produce un rayo de luz que se puede ver desde la Tierra. \n",
    "# Escribe la lógica condicional que usa declaraciones if, else, y elif para alertar a las personas de todo el mundo que deben buscar un asteroide en el cielo.\n",
    "\n",
    "asteroid_speed = 19\n",
    "message = \"\"\n",
    "if asteroid_speed >= 20:\n",
    "    message = \"alert, asteroid might produce a light beam\"\n",
    "elif asteroid_speed == 20:\n",
    "    message = \"alert, asteroid might produce a light beam\"\n",
    "else:\n",
    "    message = \"nothing is going on\"\n",
    "print(message)\n"
   ]
  },
  {
   "cell_type": "markdown",
   "metadata": {},
   "source": [
    "Ejercicio: Uso de operadores and y or\n"
   ]
  },
  {
   "cell_type": "code",
   "execution_count": null,
   "metadata": {},
   "outputs": [],
   "source": [
    "# Escribe un programa que emita la advertencia o información correcta a la gente de la Tierra, según la velocidad y el tamaño de un asteroide. \n",
    "# Utiliza instrucciones if, else, y elif, así como los operadores and y or.\n",
    "\n",
    "asteroid_speed = 10\n",
    "asteroid_size = 24\n",
    "output_msg = \"\"\n",
    "\n",
    "# Si una pieza de un asteroide que es más grande que 25 metros pero más pequeña que 1000 metros golpeara la Tierra, causaría mucho daño.\n",
    "if asteroid_size > 25 and asteroid_size < 1000:\n",
    "    output_msg = \"ALERT!! Dangerous asteroid approaching\"\n",
    "elif asteroid_speed >= 25:\n",
    "    output_msg = \"ALERT!! Asteroid is approaching to earth too fast\"\n",
    "elif asteroid_speed >= 20:\n",
    "    output_msg = \"Asteroid might produce a light beam\"\n",
    "else:\n",
    "    output_msg = \"Nothing to see here :)\"\n",
    "print(output_msg)"
   ]
  }
 ],
 "metadata": {
  "interpreter": {
   "hash": "7ffe099857eb267427c638778c9ca67e17f1b3f3bea6ca478a8a728487ebe9aa"
  },
  "kernelspec": {
   "display_name": "Python 3.10.2 64-bit",
   "language": "python",
   "name": "python3"
  },
  "language_info": {
   "codemirror_mode": {
    "name": "ipython",
    "version": 3
   },
   "file_extension": ".py",
   "mimetype": "text/x-python",
   "name": "python",
   "nbconvert_exporter": "python",
   "pygments_lexer": "ipython3",
   "version": "3.10.2"
  },
  "orig_nbformat": 4
 },
 "nbformat": 4,
 "nbformat_minor": 2
}
