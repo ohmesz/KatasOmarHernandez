{
 "cells": [
  {
   "cell_type": "markdown",
   "metadata": {},
   "source": [
    "# Kata del modulo 4\n"
   ]
  },
  {
   "cell_type": "markdown",
   "metadata": {},
   "source": [
    "Ejercicio 1: Transformar cadenas\n"
   ]
  },
  {
   "cell_type": "code",
   "execution_count": 1,
   "metadata": {},
   "outputs": [
    {
     "name": "stdout",
     "output_type": "stream",
     "text": [
      "average,\n",
      "temperature\n",
      "\n",
      "\n",
      "Interesting facts about the Moon. The Moon is Earth's only satellite. There are several interesting facts about the Moon and how it affects life here on Earth.,\n",
      "On average, the Moon moves 4cm away from the Earth every year. This yearly drift is not significant enough to cause immediate effects on Earth. The highest daylight temperature of the Moon is 127 Celsius.\n"
     ]
    }
   ],
   "source": [
    "text =  \"\"\"Interesting facts about the Moon. The Moon is Earth's only satellite. There are several interesting facts about the Moon and how it affects life here on Earth.,\n",
    "On average, the Moon moves 4cm away from the Earth every year. This yearly drift is not significant enough to cause immediate effects on Earth. The highest daylight temperature of the Moon is 127 C.\"\"\"\n",
    "\n",
    "# Define las palabras pista: average, temperature y distance suenan bien\n",
    "average = \"average\"\n",
    "temperature = \"temperature\"\n",
    "distance = \"distance\"\n",
    "\n",
    "# Ciclo for para recorrer la cadena\n",
    "for word in text.split():\n",
    "    if word.count(average) > 0 or word.count(temperature) > 0 or word.count(distance) >0:\n",
    "        print(word)\n",
    "\n",
    "print(\"\\n\")\n",
    "\n",
    "# Ciclo para cambiar C a Celsius\n",
    "text = text.replace(\"C\",\"Celsius\")\n",
    "print(text)"
   ]
  },
  {
   "cell_type": "markdown",
   "metadata": {},
   "source": [
    "Ejercicio 2: Formateando Cadenas"
   ]
  },
  {
   "cell_type": "code",
   "execution_count": null,
   "metadata": {},
   "outputs": [],
   "source": [
    "# Datos con los que vas a trabajar\n",
    "name = \"Moon\"\n",
    "gravity = 0.00162 # in kms\n",
    "gravity_in_m2 = gravity * 1000\n",
    "planet = \"Earth\"\n",
    "\n",
    "# Creamos el título\n",
    "title = f\"Gravity facts about {name}\"\n",
    "\n",
    "# Creamos la plantilla\n",
    "# Unión de ambas cadenas\n",
    "delimiter = f\"{'-'*100}\"\n",
    "facts = f\"\"\"Planet Name: {planet} \\nGravity on {name}: {gravity_in_m2} m/s2\"\"\"\n",
    "template = f\"\"\"{title.title()} \\n{delimiter} \\n{facts}\"\"\"\n",
    "\n",
    "#print(title)\n",
    "#print(delimiter)\n",
    "#print(facts)\n",
    "print(f\"\"\"{template} \\n\"\"\")\n",
    "\n",
    "name = 'Ganímedes'\n",
    "gravity = 0.00143\n",
    "gravity_in_m2 = gravity * 1000\n",
    "planet = 'Mars'\n",
    "\n",
    "# Comprueba la plantilla\n",
    "new_template = \"\"\"Gravity facts about: {name} \\n{delimiter}\n",
    "Planet Name: {planet} \\nGravity on:  {gravity_in_m2} m/s2\"\"\"\n",
    "print(new_template.format(name=name, delimiter=delimiter, planet=planet, gravity_in_m2=gravity_in_m2))"
   ]
  }
 ],
 "metadata": {
  "interpreter": {
   "hash": "7ffe099857eb267427c638778c9ca67e17f1b3f3bea6ca478a8a728487ebe9aa"
  },
  "kernelspec": {
   "display_name": "Python 3.10.2 64-bit",
   "language": "python",
   "name": "python3"
  },
  "language_info": {
   "codemirror_mode": {
    "name": "ipython",
    "version": 3
   },
   "file_extension": ".py",
   "mimetype": "text/x-python",
   "name": "python",
   "nbconvert_exporter": "python",
   "pygments_lexer": "ipython3",
   "version": "3.10.2"
  },
  "orig_nbformat": 4
 },
 "nbformat": 4,
 "nbformat_minor": 2
}
