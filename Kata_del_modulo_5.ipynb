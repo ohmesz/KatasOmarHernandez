{
 "cells": [
  {
   "cell_type": "markdown",
   "metadata": {},
   "source": [
    "# Kata del modulo 5"
   ]
  },
  {
   "cell_type": "markdown",
   "metadata": {},
   "source": [
    "Ejercicio1 - Utilizar operadores aritméticos"
   ]
  },
  {
   "cell_type": "code",
   "execution_count": 25,
   "metadata": {},
   "outputs": [
    {
     "name": "stdout",
     "output_type": "stream",
     "text": [
      "distance in kms between planets is 628949330\n",
      "distance in miles between planets is  390577534\n"
     ]
    }
   ],
   "source": [
    "# Crea un programa que pueda calcular la distancia entre dos planetas. \n",
    "# Comenzaremos usando dos distancias de planetas: Tierra (149.597.870 km) y Júpiter (778.547.200 km).\n",
    "\n",
    "from math import ceil, floor\n",
    "\n",
    "planet_1_distance = 149597870\n",
    "planet_2_distance = 778547200\n",
    "distance_in_kms =  abs(planet_1_distance - planet_2_distance)\n",
    "distance_in_miles = ceil(distance_in_kms * 0.621)\n",
    "print('distance in kms between planets is' , distance_in_kms)\n",
    "print('distance in miles between planets is ' , distance_in_miles)"
   ]
  },
  {
   "cell_type": "markdown",
   "metadata": {},
   "source": [
    "Ejercicio 2: convierte cadenas en números y usa valores absolutos"
   ]
  },
  {
   "cell_type": "code",
   "execution_count": 26,
   "metadata": {},
   "outputs": [
    {
     "name": "stdout",
     "output_type": "stream",
     "text": [
      "100.0\n",
      "242548648.614\n"
     ]
    }
   ],
   "source": [
    "# Usando input, agrega el código para leer la distancia del sol para cada planeta, considerando 2 planetas.\n",
    "\n",
    "msg_question = \"What's the distance of this planet from the sun?\"\n",
    "planet_1_distance = float(input(msg_question))\n",
    "planet_2_distance = float(input(msg_question))\n",
    "distance_in_kms = abs(planet_1_distance - planet_2_distance)\n",
    "distance_in_miles = distance_in_miles * 0.621\n",
    "print(distance_in_kms)\n",
    "print(distance_in_miles)"
   ]
  }
 ],
 "metadata": {
  "interpreter": {
   "hash": "7ffe099857eb267427c638778c9ca67e17f1b3f3bea6ca478a8a728487ebe9aa"
  },
  "kernelspec": {
   "display_name": "Python 3.10.2 64-bit",
   "language": "python",
   "name": "python3"
  },
  "language_info": {
   "codemirror_mode": {
    "name": "ipython",
    "version": 3
   },
   "file_extension": ".py",
   "mimetype": "text/x-python",
   "name": "python",
   "nbconvert_exporter": "python",
   "pygments_lexer": "ipython3",
   "version": "3.10.2"
  },
  "orig_nbformat": 4
 },
 "nbformat": 4,
 "nbformat_minor": 2
}
