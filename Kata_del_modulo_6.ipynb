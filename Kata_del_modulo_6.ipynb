{
 "cells": [
  {
   "cell_type": "markdown",
   "metadata": {},
   "source": [
    "# Kata del modulo 6"
   ]
  },
  {
   "cell_type": "markdown",
   "metadata": {},
   "source": [
    "Ejercicio1: Crear y usar listas de Python"
   ]
  },
  {
   "cell_type": "code",
   "execution_count": null,
   "metadata": {},
   "outputs": [],
   "source": [
    "planets = ['Mercury', 'Venus', 'Earth', 'Mars', 'Jupyter', 'Saturn', 'Uranus', 'Neptune'] # Crea una variable denominada planets. Agrega los ocho planetas (sin Plutón)\n",
    "print('There are ', len(planets), \" planets in the solar system\") # Muestra el número de planetas.\n",
    "print(planets)\n",
    "planets.append('Pluton')\n",
    "print('The last planet is' , planets[-1])"
   ]
  },
  {
   "cell_type": "markdown",
   "metadata": {},
   "source": [
    "Ejercicio 2: Trabajando con datos de una lista"
   ]
  },
  {
   "cell_type": "code",
   "execution_count": null,
   "metadata": {},
   "outputs": [],
   "source": [
    "planets = ['Mercury', 'Venus', 'Earth', 'Mars', 'Jupiter', 'Saturn', 'Neptune'] # Lista de planetas V1\n",
    "planet = input(f\"Select one planet from the solar system: ({planets})\") # Solicitamos el nombre de un planeta\n",
    "planet_in_list = planets.index(planet) # Busca el planeta en la lista\n",
    "planets_closer_to_sun = planets[:planet_in_list] # Muestra los planetas más cercanos al sol\n",
    "planets_away_from_sun = planets[planet_in_list+1:]\n",
    "print(\"You selected planet\" , planet)\n",
    "print(\"Planets closer to sun\", planets_closer_to_sun)\n",
    "print(\"Planets away from sun\", planets_away_from_sun)"
   ]
  },
  {
   "cell_type": "code",
   "execution_count": null,
   "metadata": {},
   "outputs": [],
   "source": [
    "planets = ['Mercury', 'Venus', 'Earth', 'Mars', 'Jupiter', 'Saturn', 'Neptune'] # Lista de planetas V2\n",
    "planet = input('Select a planet from the solar system')\n",
    "if planet in planets:\n",
    "    print(f'{planet} is in the list of planets.')\n",
    "else:\n",
    "    print(f'{planet} is not in the list of planets.')"
   ]
  }
 ],
 "metadata": {
  "interpreter": {
   "hash": "7ffe099857eb267427c638778c9ca67e17f1b3f3bea6ca478a8a728487ebe9aa"
  },
  "kernelspec": {
   "display_name": "Python 3.10.2 64-bit",
   "language": "python",
   "name": "python3"
  },
  "language_info": {
   "codemirror_mode": {
    "name": "ipython",
    "version": 3
   },
   "file_extension": ".py",
   "mimetype": "text/x-python",
   "name": "python",
   "nbconvert_exporter": "python",
   "pygments_lexer": "ipython3",
   "version": "3.10.2"
  },
  "orig_nbformat": 4
 },
 "nbformat": 4,
 "nbformat_minor": 2
}
