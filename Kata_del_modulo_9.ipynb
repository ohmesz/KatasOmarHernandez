{
 "cells": [
  {
   "cell_type": "markdown",
   "metadata": {},
   "source": [
    "# Kata del modulo 9"
   ]
  },
  {
   "cell_type": "markdown",
   "metadata": {},
   "source": [
    "## Ejercicio 1: Trabajar con argumentos en funciones"
   ]
  },
  {
   "cell_type": "code",
   "execution_count": 82,
   "metadata": {},
   "outputs": [],
   "source": [
    "# Función para leer 3 tanques de combustible y muestre el promedio\n",
    "def fuel_tank(tank1, tank2, tank3):\n",
    "    return (tank1 + tank2 + tank3) / 3"
   ]
  },
  {
   "cell_type": "code",
   "execution_count": 83,
   "metadata": {},
   "outputs": [
    {
     "name": "stdout",
     "output_type": "stream",
     "text": [
      "10.333333333333334\n"
     ]
    }
   ],
   "source": [
    "# Llamamos a la función que genera el reporte print(funcion(tanque1, tanque2, tanque3))\n",
    "print(fuel_tank(6,7,18))"
   ]
  },
  {
   "cell_type": "code",
   "execution_count": 84,
   "metadata": {},
   "outputs": [],
   "source": [
    "# Función promedio \n",
    "def avg_fuel(tank1, tank2, tank3):\n",
    "    return tank1 + tank2 + tank3 / 3"
   ]
  },
  {
   "cell_type": "code",
   "execution_count": 85,
   "metadata": {},
   "outputs": [],
   "source": [
    "# Actualiza la función\n",
    "def fuel_tank(tank1, tank2, tank3):\n",
    "    return avg_fuel(tank1, tank2, tank3) "
   ]
  },
  {
   "cell_type": "code",
   "execution_count": 86,
   "metadata": {},
   "outputs": [
    {
     "name": "stdout",
     "output_type": "stream",
     "text": [
      "19.0\n"
     ]
    }
   ],
   "source": [
    "print(fuel_tank(6,7,18))"
   ]
  },
  {
   "cell_type": "markdown",
   "metadata": {},
   "source": [
    "## Ejercicio 2: Trabajo con argumentos de palabra clave"
   ]
  },
  {
   "cell_type": "code",
   "execution_count": 87,
   "metadata": {},
   "outputs": [
    {
     "name": "stdout",
     "output_type": "stream",
     "text": [
      "<mission report: \n",
      "    launch time: 1 \n",
      "    total flight time: 123 \n",
      "    destination: Namekusei \n",
      "    external tank: 5 \n",
      "    internal tank 6\n",
      "    >\n"
     ]
    }
   ],
   "source": [
    "# Función con un informe preciso de la misión. Considera hora de prelanzamiento, tiempo de vuelo, destino, tanque externo y tanque interno\n",
    "def misson_report_v1(prelauch_time, flight_time, destination, external_tank, internal_tank):\n",
    "    return f\"\"\"mission report: \n",
    "    launch time: {prelauch_time} \n",
    "    total flight time: {flight_time} \n",
    "    destination: {destination} \n",
    "    external tank: {external_tank} \n",
    "    internal tank {internal_tank}\n",
    "    \"\"\"\n",
    "print(misson_report_v1(1,123,'Namekusei', 5, 6))"
   ]
  },
  {
   "cell_type": "code",
   "execution_count": 88,
   "metadata": {},
   "outputs": [
    {
     "name": "stdout",
     "output_type": "stream",
     "text": [
      "<mission report: \n",
      "    total flight time: 10 \n",
      "    destination: Nibiru \n",
      "    total fuel remaining: 468 \n",
      "    >\n"
     ]
    }
   ],
   "source": [
    "# Escribe tu nueva función de reporte considerando lo anterior\n",
    "def mission_report_v2(destination, *minutes, **fuel_reservoirs):\n",
    "    return f\"\"\"mission report: \n",
    "    total flight time: {sum(minutes)} \n",
    "    destination: {destination} \n",
    "    total fuel remaining: {sum(fuel_reservoirs.values())} \n",
    "    \"\"\"\n",
    "\n",
    "print(mission_report_v2('Nibiru', 1,2,3,4, main_tank = 345, external_tank = 123))"
   ]
  },
  {
   "cell_type": "code",
   "execution_count": 89,
   "metadata": {},
   "outputs": [
    {
     "name": "stdout",
     "output_type": "stream",
     "text": [
      "mission report: \n",
      " total flight time: 10 \n",
      " destination: Nibiru \n",
      "    \n",
      "total fuel remaining: 468 \n",
      "main_tank tank --> 345 gallons left\n",
      "external_tank tank --> 123 gallons left\n",
      "\n"
     ]
    }
   ],
   "source": [
    "# Escribe tu nueva función\n",
    "def mission_report_v3(destination, *minutes, **fuel_reservoirs):\n",
    "    report = f\"\"\"mission report: \\n total flight time: {sum(minutes)} \\n destination: {destination} \n",
    "    \\ntotal fuel remaining: {sum(fuel_reservoirs.values())} \\n\"\"\"\n",
    "    for tank, gallons in fuel_reservoirs.items():\n",
    "        report += f\"{tank} tank --> {gallons} gallons left\\n\"\n",
    "    return report\n",
    "\n",
    "print(mission_report_v3('Nibiru',1,2,3,4, main_tank = 345, external_tank = 123))"
   ]
  }
 ],
 "metadata": {
  "interpreter": {
   "hash": "7ffe099857eb267427c638778c9ca67e17f1b3f3bea6ca478a8a728487ebe9aa"
  },
  "kernelspec": {
   "display_name": "Python 3.10.2 64-bit",
   "language": "python",
   "name": "python3"
  },
  "language_info": {
   "codemirror_mode": {
    "name": "ipython",
    "version": 3
   },
   "file_extension": ".py",
   "mimetype": "text/x-python",
   "name": "python",
   "nbconvert_exporter": "python",
   "pygments_lexer": "ipython3",
   "version": "3.10.2"
  },
  "orig_nbformat": 4
 },
 "nbformat": 4,
 "nbformat_minor": 2
}
